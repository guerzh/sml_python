{
 "cells": [
  {
   "cell_type": "markdown",
   "metadata": {},
   "source": [
    " #### Problem 6.1\n",
    " \n",
    " Complete the following function according to its docstring. Make include at least 3 test cases.\n",
    " \n",
    " Note that you can used `isdigit` as follows:"
   ]
  },
  {
   "cell_type": "code",
   "execution_count": 1,
   "metadata": {
    "collapsed": false
   },
   "outputs": [
    {
     "data": {
      "text/plain": [
       "True"
      ]
     },
     "execution_count": 1,
     "metadata": {},
     "output_type": "execute_result"
    }
   ],
   "source": [
    "\"4\".isdigit()"
   ]
  },
  {
   "cell_type": "code",
   "execution_count": 2,
   "metadata": {
    "collapsed": false
   },
   "outputs": [
    {
     "data": {
      "text/plain": [
       "True"
      ]
     },
     "execution_count": 2,
     "metadata": {},
     "output_type": "execute_result"
    }
   ],
   "source": [
    "\"42\".isdigit()"
   ]
  },
  {
   "cell_type": "code",
   "execution_count": 3,
   "metadata": {
    "collapsed": false
   },
   "outputs": [
    {
     "data": {
      "text/plain": [
       "False"
      ]
     },
     "execution_count": 3,
     "metadata": {},
     "output_type": "execute_result"
    }
   ],
   "source": [
    "\"42a\".isdigit()"
   ]
  },
  {
   "cell_type": "code",
   "execution_count": 4,
   "metadata": {
    "collapsed": false
   },
   "outputs": [
    {
     "data": {
      "text/plain": [
       "True"
      ]
     },
     "execution_count": 4,
     "metadata": {},
     "output_type": "execute_result"
    }
   ],
   "source": [
    "my_string = \"42\"\n",
    "my_string.isdigit()"
   ]
  },
  {
   "cell_type": "code",
   "execution_count": 5,
   "metadata": {
    "collapsed": false
   },
   "outputs": [
    {
     "name": "stdout",
     "output_type": "stream",
     "text": [
      "True\n",
      "True\n",
      "False\n"
     ]
    }
   ],
   "source": [
    "my_string2 = \"42a\"\n",
    "for c in my_string2:\n",
    "    print(c.isdigit())"
   ]
  },
  {
   "cell_type": "code",
   "execution_count": 6,
   "metadata": {
    "collapsed": true
   },
   "outputs": [],
   "source": [
    "def count_non_digits(s):\n",
    "    \"\"\" (str) -> int\n",
    "    Return the number of non-digits in s.\n",
    "    >>> count_non_digits(’abc12d’)\n",
    "    4\n",
    "    >>> count_non_digits(’135’)\n",
    "    0\n",
    "    >>> count_non_digits(’A.4’)\n",
    "    2\n",
    "    \"\"\""
   ]
  },
  {
   "cell_type": "markdown",
   "metadata": {},
   "source": [
    "#### Problem 6.2\n",
    "\n",
    "Complete the following function according to its docstring. Include at least 3 test cases. Look up the documentation for `isalpha`, `islower`, and `isupper` here: https://docs.python.org/3/library/stdtypes.html"
   ]
  },
  {
   "cell_type": "code",
   "execution_count": 7,
   "metadata": {
    "collapsed": true
   },
   "outputs": [],
   "source": [
    "def password_is_valid(passwd):\n",
    "    \"\"\" (str) -> bool\n",
    "    A strong password has a length greater than or equal to 6, contains at\n",
    "    least one lowercase letter, at least one uppercase letter, and at least\n",
    "    one digit. Return True iff passwd is considered strong.\n",
    "    >>> check_password(’I<3csc108’)\n",
    "    True\n",
    "    \"\"\""
   ]
  },
  {
   "cell_type": "markdown",
   "metadata": {},
   "source": [
    "#### Problem 6.3\n",
    "\n",
    "Complete the following function according to its docstring. Include at least three test cases."
   ]
  },
  {
   "cell_type": "code",
   "execution_count": 8,
   "metadata": {
    "collapsed": true
   },
   "outputs": [],
   "source": [
    "def first_even(items):\n",
    "    \"\"\" (list of int) -> int\n",
    "    Return the first even number from items. Return -1 if items contains no even numbers.\n",
    "    >>> first_even([5, 8, 3, 2])\n",
    "    8\n",
    "    >>> first_even([7, 1])\n",
    "    -1\n",
    "    \"\"\""
   ]
  },
  {
   "cell_type": "markdown",
   "metadata": {},
   "source": [
    "#### Problem 6.4\n",
    "\n",
    "Write a function named `is_vowel` that takes a character string as a parameter and returns `True` if the character\n",
    "is a vowel and `False` otherwise. For the purposes of this question, we will assume that y is not a vowel. You\n",
    "may assume that the function will only be called on strings of length 1. Hint: using the `in` operator:"
   ]
  },
  {
   "cell_type": "code",
   "execution_count": 9,
   "metadata": {
    "collapsed": false
   },
   "outputs": [
    {
     "data": {
      "text/plain": [
       "True"
      ]
     },
     "execution_count": 9,
     "metadata": {},
     "output_type": "execute_result"
    }
   ],
   "source": [
    "4 in [3, 4, 5]"
   ]
  },
  {
   "cell_type": "code",
   "execution_count": 10,
   "metadata": {
    "collapsed": false
   },
   "outputs": [
    {
     "data": {
      "text/plain": [
       "False"
      ]
     },
     "execution_count": 10,
     "metadata": {},
     "output_type": "execute_result"
    }
   ],
   "source": [
    "6 in [3, 4, 5]"
   ]
  },
  {
   "cell_type": "markdown",
   "metadata": {},
   "source": [
    "#### Problem 6.5\n",
    "\n",
    "Write a function `remove_vowels` that takes in a string as the only parameter and returns a string that is the same\n",
    "characters as the input string (in the same order) but all the vowels have been removed. Here is one example: `disemvowel(\"alphabet\")` should return `\"lphbt\"`"
   ]
  }
 ],
 "metadata": {
  "kernelspec": {
   "display_name": "Python 3",
   "language": "python",
   "name": "python3"
  },
  "language_info": {
   "codemirror_mode": {
    "name": "ipython",
    "version": 3
   },
   "file_extension": ".py",
   "mimetype": "text/x-python",
   "name": "python",
   "nbconvert_exporter": "python",
   "pygments_lexer": "ipython3",
   "version": "3.5.2"
  }
 },
 "nbformat": 4,
 "nbformat_minor": 2
}
