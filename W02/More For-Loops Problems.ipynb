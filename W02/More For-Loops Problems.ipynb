{
 "cells": [
  {
   "cell_type": "markdown",
   "metadata": {},
   "source": [
    "#### Problem 6.1\n",
    "\n",
    "We store patient data in two lists of the same length. For example:\n",
    "\n",
    "    sex_data =             [\"m\", \"f\", \"f\", \"m\", \"m\", \"f\"]\n",
    "    ward_data =            [  1,   3,   2,   2,   1,   2] \n",
    "    length_of_stay_data =  [ 10,   5,   7,   2,   3,   4]\n",
    "Write a function that computes the average length of stay in the hospital for a given sex, in a given ward. The function signature should be\n",
    "\n",
    "    def avg_stay(sex, ward, sex_data, ward_data, length_of_stay_data):\n",
    "        '''Return the average length of stay for patients of sex sex in ward ward\n",
    "\n",
    "        Arguments:\n",
    "        sex_data -- a list containing N strings that correspond to patients' sex (\"m\" or \"f\")\n",
    "        ward_data -- a list of N ints that correspond to patients' ward\n",
    "        length_of_stay_data -- a list of N ints that correspond to patients' legnths of \n",
    "                               stay\n",
    "        '''"
   ]
  },
  {
   "cell_type": "markdown",
   "metadata": {},
   "source": [
    "#### Problem 6.2\n",
    "\n",
    "Write a function that returns True iff string `s1` starts with string `s2`. For example, \n",
    "\n",
    "`starts_with(\"abc\", \"ab\")` should return `True`\n",
    "\n",
    "`starts_with(\"ad\", \"ab\")` should return `False`"
   ]
  },
  {
   "cell_type": "markdown",
   "metadata": {},
   "source": [
    "#### Problem 6.3\n",
    "\n",
    "Recall that you can estimate the extent to which the data is spread by computing the *standard deviation* of the data.\n",
    "\n",
    "The standard deviation of $x_1, x_2, ..., x_n$ can be estimated as $\\hat{\\sigma(x)} = \\sqrt{\\frac{\\sum_{i}^n (x_i-\\bar{x})}{n-1}}$. Write a function to compute the standard deviation of the length of stay in a given ward. The signature of the function should be `def sd_stay(sex, ward, sex_data, ward_data, length_of_stay_data)`."
   ]
  },
  {
   "cell_type": "markdown",
   "metadata": {},
   "source": [
    "#### Problem 6.4\n",
    "\n",
    "\n",
    "We will write a function that returns `True` iff a DNA subsequence matches a DNA sequences somewhere. Both the subsequence and the sequence are represented as strings. For example, if\n",
    "\n",
    "        seq = \"CGGGGAATAGCCCCC\"\n",
    "        subseq = \"AATA\",\n",
    "\n",
    "then `match_subseq(seq, subseq)` should return `True` since you can match `subseq` to `seq`, but if\n",
    "\n",
    "        seq = \"CGGGTCGGGCGC\"\n",
    "        subseq = \"AAA\"\n",
    "        \n",
    "then `match_subseq(seq, subseq)` should return `False`.\n",
    "\n",
    "But first, we will write a simpler function. (You might like to try to not look at Problem 6.4 and come up with the solution yourself.\n",
    "\n",
    "#### Problem 6.4 (a)\n",
    "\n",
    "Write a function with the signature `match_subseq_i(seq1, seq2, i)`, which will return `True` if `seq2` is a subsequence of `seq1`, and it matches `seq2` at index `i`. (I.e., it is the same as `seq1[i], seq1[i+1], ... `.)\n",
    "\n",
    "#### Problem 6.4 (b)\n",
    "\n",
    "Now, write the function `match_subseq`. Note that `subseq` must match `seq` at *some* index in order for it to be a match generally.\n",
    "\n"
   ]
  }
 ],
 "metadata": {
  "kernelspec": {
   "display_name": "Python 2",
   "language": "python",
   "name": "python2"
  },
  "language_info": {
   "codemirror_mode": {
    "name": "ipython",
    "version": 2
   },
   "file_extension": ".py",
   "mimetype": "text/x-python",
   "name": "python",
   "nbconvert_exporter": "python",
   "pygments_lexer": "ipython2",
   "version": "2.7.12"
  }
 },
 "nbformat": 4,
 "nbformat_minor": 2
}
