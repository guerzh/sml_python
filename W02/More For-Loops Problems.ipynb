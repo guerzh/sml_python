{
 "cells": [
  {
   "cell_type": "markdown",
   "metadata": {},
   "source": [
    "#### Problem 6.1\n",
    "\n",
    "We store patient data in two lists of the same length. For example:\n",
    "\n",
    "    sex_data =             [\"m\", \"f\", \"f\", \"m\", \"m\", \"f\"]\n",
    "    ward_data =            [  1,   3,   2,   2,   1,   2] \n",
    "    length_of_stay_data =  [ 10,   5,   7,   2,   3,   4]\n",
    "Write a function that computes the average length of stay in the hospital for a given sex, in a given ward. The function signature should be\n",
    "\n",
    "    def avg_stay(sex, ward, sex_data, ward_data, length_of_stay_data):\n",
    "        '''Return the average length of stay for patients of sex sex in ward ward\n",
    "\n",
    "        Arguments:\n",
    "        sex_data -- a list containing N strings that correspond to patients' sex (\"m\" or \"f\")\n",
    "        ward_data -- a list of N ints that correspond to patients' ward\n",
    "        length_of_stay_data -- a list of N ints that correspond to patients' legnths of \n",
    "                               stay\n",
    "        '''"
   ]
  },
  {
   "cell_type": "markdown",
   "metadata": {},
   "source": [
    "#### Problem 6.2\n",
    "\n",
    "Write a function that returns True iff string `s1` starts with string `s2`. For example, \n",
    "\n",
    "`starts_with(\"abc\", \"ab\")` should return `True`\n",
    "\n",
    "`starts_with(\"ad\", \"ab\")` should return `False`"
   ]
  },
  {
   "cell_type": "markdown",
   "metadata": {},
   "source": [
    "#### Problem 6.3\n",
    "\n",
    "Recall that you can estimate the extend to which the data is spread by computing the *standard deviation* of the data.\n",
    "\n",
    "The standard deviation of $x_1, x_2, ..., x_n$ can be estimated as $\\hat{\\sigma(x)} = \\sqrt{\\frac{\\sum_{i}^n (x_i-\\bar{x})}{n-1}}$. Write a function to compute the standard deviation of the length of stay in a given ward."
   ]
  },
  {
   "cell_type": "markdown",
   "metadata": {},
   "source": [
    "#### Problem 6.4\n",
    "\n",
    "Write a function that returns `True` iff a DNA subsequence matches a DNA sequences somewhere. Both the subsequence and the sequence are represented as strings. For example, if\n",
    "\n",
    "        seq = \"CGGGGAATAGCCCCC\"\n",
    "        subseq = \"AATA\",\n",
    "\n",
    "then `match_subseq(seq, subseq)` should return `True` since you can match `subseq` to `seq`, but if\n",
    "\n",
    "        seq = \"CGGGTCGGGCGC\"\n",
    "        subseq = \"AAA\"\n",
    "        \n",
    "then `match_subseq(seq, subseq)` should return `False`.\n",
    "\n",
    "*Hint*: think of what a useful helper function would be that's similar to what we already wrote."
   ]
  }
 ],
 "metadata": {
  "kernelspec": {
   "display_name": "Python 3",
   "language": "python",
   "name": "python3"
  },
  "language_info": {
   "codemirror_mode": {
    "name": "ipython",
    "version": 3
   },
   "file_extension": ".py",
   "mimetype": "text/x-python",
   "name": "python",
   "nbconvert_exporter": "python",
   "pygments_lexer": "ipython3",
   "version": "3.5.2"
  }
 },
 "nbformat": 4,
 "nbformat_minor": 2
}
