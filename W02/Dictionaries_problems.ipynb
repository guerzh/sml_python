{
 "cells": [
  {
   "cell_type": "markdown",
   "metadata": {},
   "source": [
    "#### Problem 8.1\n",
    "\n",
    "Complete and test the following function"
   ]
  },
  {
   "cell_type": "code",
   "execution_count": 1,
   "metadata": {
    "collapsed": true
   },
   "outputs": [],
   "source": [
    "def dict_to_str(d):\n",
    "    \"\"\"Return a str containing each key and value in dict d. Keys and\n",
    "    values are separated by a comma. Key-value pairs are separated\n",
    "    by a newline character from each other.\n",
    "    For example, dict_to_str({1:2, 5:6}) should return \"1, 2\\n5, 6\".\n",
    "    (the order of the key-value pairs doesn’t matter and can be different\n",
    "    every time).\n",
    "    \"\"\"\n",
    "    pass # replace this with your code"
   ]
  },
  {
   "cell_type": "markdown",
   "metadata": {},
   "source": [
    "#### Problem 8.2\n",
    "\n",
    "Complete and test the following function"
   ]
  },
  {
   "cell_type": "code",
   "execution_count": 2,
   "metadata": {
    "collapsed": true
   },
   "outputs": [],
   "source": [
    "def dict_to_str_sorted(d):\n",
    "    \"\"\"Return a str containing each key and value in dict d. Keys and\n",
    "    values are separated by a comma. Key-value pairs are separated\n",
    "    by a newline character from each other, and are sorted in\n",
    "    ascending order by key.\n",
    "    For example, dict_to_str_sorted({1:2, 0:3, 10:5}) should\n",
    "    return \"0, 3\\n1, 2\\n10, 5\". The keys in the string must be sorted\n",
    "    in ascending order.\"\"\"\n",
    "    pass # replace this with your code"
   ]
  },
  {
   "cell_type": "markdown",
   "metadata": {},
   "source": [
    "#### Problem 8.3\n",
    "\n",
    "For this question, you will compute word counts in a large corpus of text. Word frequency lists (a frequency\n",
    "of the word is the ratio of the number of times the word appears to the total number of words in a document)\n",
    "are commonly used in computational linguistics. You will write a function that finds the 10 most frequently\n",
    "occurring words in a text file, and a program that uses this function to find the 10 most frequently-occurring\n",
    "words in Pride and Prejudice. For the purposes of this problem, you may assume, if you like, that all words\n",
    "are separated by spaces and that there is no punctuation in the file, and all the words are in lowercase, so\n",
    "that the list of words in the file `text.txt`. You can use the following to get all the words in the file, under this assumption:\n",
    "\n",
    "    open(\"text.txt\", encoding=\"latin-1\").read().split()\n",
    "    \n",
    "##### Part (a)\n",
    "\n",
    "First, store the number of times that the word `w` appears in the text in `word_counts[w]`. For example, if\n",
    "the word “the” appears in the file 5 times, `word_counts[\"the\"]` should be 5.\n",
    "\n",
    "Suppose the contents of your file are the opening of *Notes from the Underground* by Fyodor Dostoyevsky, translated by Constance Garnett:\n",
    "\n",
    "> I am a sick man. I am a spiteful man. I am an unattractive man. I believe my liver is diseased. However, I know nothing at all about my disease, and do not know for certain what ails me.\n",
    "\n",
    "If you read in the text using `read().split()`, the list of words will be:\n",
    "\n",
    "    [\"I\", \"am\", \"a\", \"sick\", \"man.\", \"I\", \"am\", \"a\", \"spiteful\", \"man.\", \"I\", \"am\",\n",
    "    \"an\", \"unattractive\", \"man.\", \"I\", \"believe\", \"my\", \"liver\", \"is\", \"diseased.\",\n",
    "    \"However,\", \"I\", \"know\", \"nothing\", \"at\", \"all\", \"about\", \"my\", \"disease,\", \"and\",\n",
    "    \"do\", \"not\", \"know\", \"for\", \"certain\", \"what\", \"ails\", \"me.\"]\n",
    "\n",
    "`word_counts` should then be\n",
    "\n",
    "    {\"sick\": 1, \"man.\": 3, \"at\": 1, \"what\": 1, \"nothing\": 1, \"do\": 1, \"is\": 1, \"me.\": 1,\n",
    "    \"I\": 5, \"ails\": 1, \"an\": 1, \"am\": 3, \"know\": 2, \"disease,\": 1, \"not\": 1, \"liver\": 1,\n",
    "    \"believe\": 1, \"all\": 1, \"my\": 2, \"certain\": 1, \"However,\": 1, \"and\": 1, \"for\": 1,\n",
    "        \"unattractive\": 1, \"spiteful\": 1, \"about\": 1, \"a\": 2, \"diseased.\": 1}\n",
    "\n",
    "For example, the word \"man.\" (with the period at the end) appears 3 times in the text, so its entry in the dictionary `word_counts` is 3."
   ]
  },
  {
   "cell_type": "markdown",
   "metadata": {},
   "source": [
    "##### Part (b)\n",
    "\n",
    "Write a function with the signature `top10(L)` that takes in a list `L` of 100 different integers, and returns\n",
    "a list of the 10 largest integers in `L`."
   ]
  },
  {
   "cell_type": "markdown",
   "metadata": {},
   "source": [
    "#### Part (c)\n",
    "\n",
    "Now, obtain the top 10 most-frequent words from the dictionary `freq`. To do that, you need to sort the data by the word counts. You cannot sort dictionaries directly, but you can use the following trick:\n",
    "\n",
    "    inv_freq = {6: \"the\", 12: \"a\", 1:\"hi\"}\n",
    "    print(sorted(inv_freq.items()))"
   ]
  },
  {
   "cell_type": "markdown",
   "metadata": {},
   "source": [
    "First, experiment with this code and understand what it is doing, and then apply the technique to\n",
    "finding the top 10 most frequent words. Test your function by creating a small text file where you can find the top n most-frequent words manually, running your code on this file, and comparing the results. Then, download the text of Pride and Prejudice from http://www.gutenberg.org/files/1342/1342-0.txt and obtain the top 10 most frequent words in Pride and Prejudice"
   ]
  }
 ],
 "metadata": {
  "kernelspec": {
   "display_name": "Python 2",
   "language": "python",
   "name": "python2"
  },
  "language_info": {
   "codemirror_mode": {
    "name": "ipython",
    "version": 2
   },
   "file_extension": ".py",
   "mimetype": "text/x-python",
   "name": "python",
   "nbconvert_exporter": "python",
   "pygments_lexer": "ipython2",
   "version": "2.7.12"
  }
 },
 "nbformat": 4,
 "nbformat_minor": 2
}
