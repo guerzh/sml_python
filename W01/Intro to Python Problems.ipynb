{
 "cells": [
  {
   "cell_type": "markdown",
   "metadata": {},
   "source": [
    "#### Problem 1.1\n",
    "\n",
    "Write a program that prints “Hello Python” and some additional text to the screen. Create a folder called `hellopython`, and save the program to the file hello.py in that folder."
   ]
  },
  {
   "cell_type": "markdown",
   "metadata": {},
   "source": [
    "#### Problem 1.2\n",
    "\n",
    "Modify `hello.py` to greet you by your name(s). For example, if your names happen to be Hermione Granger and Harry Potter, the program should print out the following\n",
    "\n",
    "Hello, Hermione Granger\n",
    "Hello, Harry Potter\n",
    "\n",
    "Now, use variables to print the following without entering the same information more than once:\n",
    "\n",
    "`Hello, Hermione Granger and Harry Potter. Your names are Harry Potter and Hermione Granger. Hi there. Your names are still Hermione Granger and Harry Potter.`"
   ]
  },
  {
   "cell_type": "markdown",
   "metadata": {},
   "source": [
    "#### Problem 1.3\n",
    "\n",
    "Fridericia's Formula for the corrected QT interval is\n",
    "\n",
    "$$QTc=\\frac{QTInterval}{RR^{1/3}}$$\n",
    " \n",
    "The R-R interval is measured in seconds, and can be ontained using  60/HR , where HR is the heart rate. Set the HR and QT variables, and print the corrected QT interval. Trace your code in Pyzo."
   ]
  },
  {
   "cell_type": "markdown",
   "metadata": {},
   "source": [
    "#### Problem 1.4\n",
    "\n",
    "Not everyone should be greeted by name. Write Python code that greets by name the person whose name is stored in a variable called greetee, except if the person's name is Lord Voldemort, in which case the program should print the message \"I'm not talking to you.\" Trace the different version of the program.\n"
   ]
  },
  {
   "cell_type": "markdown",
   "metadata": {},
   "source": [
    "#### Problem 1.5\n",
    "\n",
    "According to Wikipedia, borderline QTc for men is 431ms-450ms and for women it is 451ms-470ms. Set the variable sex to \"male\" (or \"female\"), and write a program that uses the variables HR (heartrate), QT (uncorrected QT interval), and sex (\"male\" or \"female\") to print out \"normal QTc\", \"borderline QTc\", or \"abnormal QTc.\""
   ]
  },
  {
   "cell_type": "markdown",
   "metadata": {},
   "source": [
    "#### Problem 1.6\n",
    "\n",
    "Write a program that asks the user for their sex, QT interval, and heartrate, and outputs whether their QTc is normal/borderline/abnormal."
   ]
  }
 ],
 "metadata": {
  "kernelspec": {
   "display_name": "Python 3",
   "language": "python",
   "name": "python3"
  },
  "language_info": {
   "codemirror_mode": {
    "name": "ipython",
    "version": 3
   },
   "file_extension": ".py",
   "mimetype": "text/x-python",
   "name": "python",
   "nbconvert_exporter": "python",
   "pygments_lexer": "ipython3",
   "version": "3.5.2"
  }
 },
 "nbformat": 4,
 "nbformat_minor": 2
}
