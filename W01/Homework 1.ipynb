{
 "cells": [
  {
   "cell_type": "markdown",
   "metadata": {},
   "source": [
    "#### Problem 5.1\n",
    "\n",
    "The dosage for amoxycillin for a child depends on the child’s weight expressed in kilograms. It is 80 mg per kg per day to a maximum of 500 mg per day. The total amount is typically divided into three equal doses. Write a function named `compute_dosage` that asks for a child’s weight (in kilograms) and prints the total amount per day and the amount of each of the three individual doses. In order to get the child’s weight in kg, use\n",
    "    weight = float(input(\"Weight: \"))"
   ]
  },
  {
   "cell_type": "markdown",
   "metadata": {},
   "source": [
    "#### Problem 5.2\n",
    "\n",
    "Suppose we have a list of measurements. All the measurements are larger than 0 and the list has at least one measurement. Write a function named `max1` to return the largest measurement from the list. Test your function on the test cases shown below:\n",
    "\n",
    "    [1.1, 4, 0.5, 3]: 4\n",
    "    [1, 3]: 3\n",
    "    [4]: 4\n",
    "\n",
    "Include the tests in your code.\n",
    "\n",
    "Now, write a function named `min2` (which returns the smallest number in the list) that does not rely on the assumption that all the measurements are positive. Test your function with the following test cases.\n",
    "\n",
    "    [1.1, 2, -5, 3] ->  -5\n",
    "    [-1000, 3] ->  -1000\n",
    "    [1000, 3] ->  3\n",
    "    \n",
    "Now, write a function named `max_pos` that returns the smallest positive element of a list. Include test cases.\n",
    "\n",
    "(Note that valid solutions for `max1` include the solution for `max2`. You can submit just `max2` if you like."
   ]
  },
  {
   "cell_type": "markdown",
   "metadata": {},
   "source": [
    "#### Problem 5.3\n",
    "\n",
    "A list represents the queue of patients who signed up to see a doctor at a walk-in clinic. A patient would sometimes sign up twice in a row by mistake. Write a function with the signature `two_in_a_row(queue)` that returns `True` if a list contains the same name twice in a row, and `False` otherwise. For example, `two_in_a_row([\"Mike G.\", \"Alice C.\", \"Bob A.\", \"Bob A.\", \"Mary C.\"])` should return `True`, since the string `\"Bob A.\"` appears twice in a row, but `two_in_a_row([\"Sam A.\", \"Dorothy Z.\"])` should return `False`."
   ]
  }
 ],
 "metadata": {
  "kernelspec": {
   "display_name": "Python 3",
   "language": "python",
   "name": "python3"
  },
  "language_info": {
   "codemirror_mode": {
    "name": "ipython",
    "version": 3
   },
   "file_extension": ".py",
   "mimetype": "text/x-python",
   "name": "python",
   "nbconvert_exporter": "python",
   "pygments_lexer": "ipython3",
   "version": "3.5.2"
  }
 },
 "nbformat": 4,
 "nbformat_minor": 2
}
