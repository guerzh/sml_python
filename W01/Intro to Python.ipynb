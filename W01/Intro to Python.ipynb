{
 "cells": [
  {
   "cell_type": "markdown",
   "metadata": {},
   "source": [
    "### Intro to Python\n",
    "\n",
    "#### The Python console\n",
    "\n",
    "You can use the Python console as a slightly more fancy calculator: you can enter *expressions* into the console, and the Python interpreter (the \"interpreter\" is software that takes in Python code and runs it) will produce the expression's value"
   ]
  },
  {
   "cell_type": "code",
   "execution_count": 1,
   "metadata": {
    "collapsed": false
   },
   "outputs": [
    {
     "data": {
      "text/plain": [
       "9"
      ]
     },
     "execution_count": 1,
     "metadata": {},
     "output_type": "execute_result"
    }
   ],
   "source": [
    "4 + 5"
   ]
  },
  {
   "cell_type": "code",
   "execution_count": 2,
   "metadata": {
    "collapsed": false
   },
   "outputs": [
    {
     "data": {
      "text/plain": [
       "3"
      ]
     },
     "execution_count": 2,
     "metadata": {},
     "output_type": "execute_result"
    }
   ],
   "source": [
    "15 - 12"
   ]
  },
  {
   "cell_type": "markdown",
   "metadata": {},
   "source": [
    "You can also have expressions whose value isn't a number, but is instead `True` or `False` (this kind of value is called a Boolean, after George Boole, the British logician. Note the double \"equals\" sign. You must use `==` when comparing values. A single \"equals\" sign means something else."
   ]
  },
  {
   "cell_type": "code",
   "execution_count": 3,
   "metadata": {
    "collapsed": false
   },
   "outputs": [
    {
     "data": {
      "text/plain": [
       "False"
      ]
     },
     "execution_count": 3,
     "metadata": {},
     "output_type": "execute_result"
    }
   ],
   "source": [
    "3 == 4"
   ]
  },
  {
   "cell_type": "code",
   "execution_count": 4,
   "metadata": {
    "collapsed": false
   },
   "outputs": [
    {
     "data": {
      "text/plain": [
       "True"
      ]
     },
     "execution_count": 4,
     "metadata": {},
     "output_type": "execute_result"
    }
   ],
   "source": [
    "(50 - 20) > 0"
   ]
  },
  {
   "cell_type": "markdown",
   "metadata": {},
   "source": [
    "#### Going beyond just numbers"
   ]
  },
  {
   "cell_type": "markdown",
   "metadata": {},
   "source": [
    "So far, we have only seen numbers (in fact, integers) and Boolean values (`True` and `False`) as values. Strings (i.e., text) is another possible value. In fact, in Python, we can add strings, and multiply them by integers.\n",
    "\n",
    "String in Python are text enclosed in quotes. Both double quotes and single quotes work for enclosing strings. (As do triple ticks ''')."
   ]
  },
  {
   "cell_type": "code",
   "execution_count": 5,
   "metadata": {
    "collapsed": false
   },
   "outputs": [
    {
     "data": {
      "text/plain": [
       "'ha'"
      ]
     },
     "execution_count": 5,
     "metadata": {},
     "output_type": "execute_result"
    }
   ],
   "source": [
    "\"ha\""
   ]
  },
  {
   "cell_type": "code",
   "execution_count": 6,
   "metadata": {
    "collapsed": false
   },
   "outputs": [
    {
     "data": {
      "text/plain": [
       "'hahah'"
      ]
     },
     "execution_count": 6,
     "metadata": {},
     "output_type": "execute_result"
    }
   ],
   "source": [
    "\"ha\" + \"hah\""
   ]
  },
  {
   "cell_type": "code",
   "execution_count": 7,
   "metadata": {
    "collapsed": false
   },
   "outputs": [
    {
     "data": {
      "text/plain": [
       "'hahahahahahahahahaha'"
      ]
     },
     "execution_count": 7,
     "metadata": {},
     "output_type": "execute_result"
    }
   ],
   "source": [
    "\"ha\" * 10"
   ]
  },
  {
   "cell_type": "code",
   "execution_count": 8,
   "metadata": {
    "collapsed": false
   },
   "outputs": [
    {
     "data": {
      "text/plain": [
       "'the number 42'"
      ]
     },
     "execution_count": 8,
     "metadata": {},
     "output_type": "execute_result"
    }
   ],
   "source": [
    "\"the number\" + \" \" + \"42\""
   ]
  },
  {
   "cell_type": "markdown",
   "metadata": {},
   "source": [
    "\"hi\" != \"hello\""
   ]
  },
  {
   "cell_type": "markdown",
   "metadata": {},
   "source": [
    "### Variables\n",
    "\n",
    "Variables in programming are used to store values. For example, here is how to store the number 42 in a variable called `memory`."
   ]
  },
  {
   "cell_type": "code",
   "execution_count": 9,
   "metadata": {
    "collapsed": true
   },
   "outputs": [],
   "source": [
    "memory = 42"
   ]
  },
  {
   "cell_type": "markdown",
   "metadata": {},
   "source": [
    "Note that the value  `memory = 42` is not displayed. That is because `memory = 42` is not a valid expression. (It is a *statement*). `memory` by itself is a valid expression."
   ]
  },
  {
   "cell_type": "code",
   "execution_count": 10,
   "metadata": {
    "collapsed": false
   },
   "outputs": [
    {
     "data": {
      "text/plain": [
       "42"
      ]
     },
     "execution_count": 10,
     "metadata": {},
     "output_type": "execute_result"
    }
   ],
   "source": [
    "memory"
   ]
  },
  {
   "cell_type": "markdown",
   "metadata": {},
   "source": [
    "Note that there is nothing special about calling the variable `memory`: we can equally well have variables called `lol` or `hours_of_sleep`. Variable names cannot have spaces in them, and must start with a letter. In Python, the convention is to use snake_case (a.k.a. pothole_case) for variable and function names."
   ]
  },
  {
   "cell_type": "code",
   "execution_count": 11,
   "metadata": {
    "collapsed": true
   },
   "outputs": [],
   "source": [
    "lol = 101\n",
    "hours_of_sleep = 2"
   ]
  },
  {
   "cell_type": "markdown",
   "metadata": {},
   "source": [
    "Variables that have been defined can be used in expressions:"
   ]
  },
  {
   "cell_type": "code",
   "execution_count": 12,
   "metadata": {
    "collapsed": true
   },
   "outputs": [],
   "source": [
    "with_snooze = hours_of_sleep + 0.1"
   ]
  },
  {
   "cell_type": "code",
   "execution_count": 13,
   "metadata": {
    "collapsed": false
   },
   "outputs": [
    {
     "data": {
      "text/plain": [
       "2.1"
      ]
     },
     "execution_count": 13,
     "metadata": {},
     "output_type": "execute_result"
    }
   ],
   "source": [
    "with_snooze"
   ]
  },
  {
   "cell_type": "markdown",
   "metadata": {},
   "source": [
    "What we just did was assign the value `hours_of_sleep + 0.1` (which evaluates to 2 + 0.1 = 2.1) to a new variable called `with_snooze`."
   ]
  },
  {
   "cell_type": "markdown",
   "metadata": {},
   "source": [
    "So far, what we did was type in the value of a variable in the console to check what its value is. When we write programs (i.e., series of instructions), we can't (or don't want to) check the values of variables in the shell. Instead, we use Python's print function:"
   ]
  },
  {
   "cell_type": "code",
   "execution_count": 14,
   "metadata": {
    "collapsed": false
   },
   "outputs": [
    {
     "name": "stdout",
     "output_type": "stream",
     "text": [
      "2.1\n"
     ]
    }
   ],
   "source": [
    "print(with_snooze)"
   ]
  },
  {
   "cell_type": "markdown",
   "metadata": {},
   "source": [
    "Here is a silly program (copy and paste it into Pyzo, and use Cntrl-E (or Cmd-E on Mac) to run it.)"
   ]
  },
  {
   "cell_type": "code",
   "execution_count": 15,
   "metadata": {
    "collapsed": false
   },
   "outputs": [
    {
     "name": "stdout",
     "output_type": "stream",
     "text": [
      "9\n",
      "3\n",
      "hi\n"
     ]
    }
   ],
   "source": [
    "hours_of_sleep_weekend = 20\n",
    "print(4 + 5)\n",
    "\"lol\"\n",
    "print(15 - 12)\n",
    "hours_of_sleep_weekend\n",
    "5 + 10\n",
    "\"lol\"\n",
    "print(\"hi\")"
   ]
  },
  {
   "cell_type": "markdown",
   "metadata": {},
   "source": [
    "Note that when we run a program like that in Pyzo, we only get output when we use `print`. Python (basically) ignores it when we just type in values into the program (such as `\"lol\"`, `42`, or `15 - 12`) but don't ask for them to be printed.\n"
   ]
  },
  {
   "cell_type": "markdown",
   "metadata": {},
   "source": [
    "### Variables vs. Strings\n",
    "\n",
    "Note that strings are enclosed in quotes, and variables are not. For example, consider this code:\n",
    "`a = hello\n",
    "print(a)`\n",
    "\n",
    "If you run it (even the first line), you will get an error unless you previously defined a variable called `hello`. On the other hand, if `hello` is enclosed in quotes, things are fine, and `a` will store the value `\"hello\"`."
   ]
  },
  {
   "cell_type": "code",
   "execution_count": 16,
   "metadata": {
    "collapsed": false
   },
   "outputs": [
    {
     "name": "stdout",
     "output_type": "stream",
     "text": [
      "hello\n"
     ]
    }
   ],
   "source": [
    "a = \"hello\"\n",
    "print(a)"
   ]
  },
  {
   "cell_type": "markdown",
   "metadata": {},
   "source": [
    "Or maybe we wanted to actually put in a the same value that we had in a variable called `hello`, but we just forgot to define the variable `hello`. We could fix that by defining the variable."
   ]
  },
  {
   "cell_type": "code",
   "execution_count": 17,
   "metadata": {
    "collapsed": false
   },
   "outputs": [
    {
     "name": "stdout",
     "output_type": "stream",
     "text": [
      "bye\n"
     ]
    }
   ],
   "source": [
    "hello = \"bye\"\n",
    "a = hello\n",
    "print(a)"
   ]
  },
  {
   "cell_type": "markdown",
   "metadata": {},
   "source": [
    "### A very simple program + comments\n",
    "\n",
    "Let's now write a program that creates a variable called `hours_of_sleep`, modifies it, and prints it.\n",
    "\n",
    "Note that Python ignores anything that comes after the pound sign #. Anything that comes in the line after the # is called a comment. Comments are intended for human readers of the code."
   ]
  },
  {
   "cell_type": "code",
   "execution_count": 18,
   "metadata": {
    "collapsed": false
   },
   "outputs": [
    {
     "name": "stdout",
     "output_type": "stream",
     "text": [
      "2\n",
      "2.5\n",
      "2.65\n"
     ]
    }
   ],
   "source": [
    "hours_of_sleep = 2\n",
    "print(hours_of_sleep)\n",
    "hours_of_sleep = 2.5                    \n",
    "print(hours_of_sleep)\n",
    "hours_of_sleep = hours_of_sleep + .15    #Snooze button\n",
    "print(hours_of_sleep)"
   ]
  },
  {
   "cell_type": "markdown",
   "metadata": {},
   "source": [
    "### Saving files using Pyzo and finding them later"
   ]
  },
  {
   "cell_type": "code",
   "execution_count": 19,
   "metadata": {
    "collapsed": false
   },
   "outputs": [
    {
     "data": {
      "image/jpeg": "[encoded data removed]",
      "text/html": [
       "\n",
       "        <iframe\n",
       "            width=\"400\"\n",
       "            height=\"300\"\n",
       "            src=\"https://www.youtube.com/embed/0FasnsuPbjg\"\n",
       "            frameborder=\"0\"\n",
       "            allowfullscreen\n",
       "        ></iframe>\n",
       "        "
      ],
      "text/plain": [
       "<IPython.lib.display.YouTubeVideo at 0x7f8c64218a20>"
      ]
     },
     "execution_count": 19,
     "metadata": {},
     "output_type": "execute_result"
    }
   ],
   "source": [
    "from IPython.display import YouTubeVideo\n",
    "YouTubeVideo('0FasnsuPbjg')"
   ]
  },
  {
   "cell_type": "markdown",
   "metadata": {},
   "source": []
  },
  {
   "cell_type": "markdown",
   "metadata": {},
   "source": [
    "#### Swith to Problem 1.1"
   ]
  },
  {
   "cell_type": "markdown",
   "metadata": {},
   "source": [
    "### Secret Number\n",
    "\n",
    "Now, let's write our first \"substantive\" program. Here, we are giving the computer instructions about how to transform a \"secret\" number."
   ]
  },
  {
   "cell_type": "code",
   "execution_count": 20,
   "metadata": {
    "collapsed": false
   },
   "outputs": [
    {
     "name": "stdout",
     "output_type": "stream",
     "text": [
      "4.0\n"
     ]
    }
   ],
   "source": [
    "secret_num = 10\n",
    "temp = secret_num + 8   #evaluate secret + 8, and put the result\n",
    "                        #in temp\n",
    "temp = temp * 2         #evaluate temp * 2, and put the results\n",
    "                        #in temp\n",
    "temp = temp / 4\n",
    "answer = temp - secret_num / 2\n",
    "print(answer)"
   ]
  },
  {
   "cell_type": "markdown",
   "metadata": {},
   "source": [
    "The math works out in such a way that you get 4.0 no matter what the secret number is. "
   ]
  },
  {
   "cell_type": "code",
   "execution_count": 21,
   "metadata": {
    "collapsed": false
   },
   "outputs": [
    {
     "name": "stdout",
     "output_type": "stream",
     "text": [
      "4.0\n"
     ]
    }
   ],
   "source": [
    "secret_num = 14\n",
    "temp = secret_num + 8   #evaluate secret + 8, and put the result\n",
    "                        #in temp\n",
    "temp = temp * 2         #evaluate temp * 2, and put the results\n",
    "                        #in temp\n",
    "temp = temp / 4\n",
    "answer = temp - secret_num / 2\n",
    "print(answer)"
   ]
  },
  {
   "cell_type": "markdown",
   "metadata": {},
   "source": [
    "### Tracing programs in Pyzo\n",
    "\n",
    "To trace a program means to go through it line-by-line and see how the variables change, which lines are executed, and what is printed as the program is executed."
   ]
  },
  {
   "cell_type": "code",
   "execution_count": 22,
   "metadata": {
    "collapsed": false
   },
   "outputs": [
    {
     "data": {
      "image/jpeg": "[encoded data removed]",
      "text/html": [
       "\n",
       "        <iframe\n",
       "            width=\"400\"\n",
       "            height=\"300\"\n",
       "            src=\"https://www.youtube.com/embed/Mw03-479UYw\"\n",
       "            frameborder=\"0\"\n",
       "            allowfullscreen\n",
       "        ></iframe>\n",
       "        "
      ],
      "text/plain": [
       "<IPython.lib.display.YouTubeVideo at 0x7f8c64218b70>"
      ]
     },
     "execution_count": 22,
     "metadata": {},
     "output_type": "execute_result"
    }
   ],
   "source": [
    "from IPython.display import YouTubeVideo\n",
    "YouTubeVideo(\"Mw03-479UYw\")"
   ]
  },
  {
   "cell_type": "markdown",
   "metadata": {},
   "source": [
    "### Printing more than one thing at a time\n",
    "\n",
    "A note about `print`: you can print multiple things at once by separating the things you want to print with commas."
   ]
  },
  {
   "cell_type": "code",
   "execution_count": 23,
   "metadata": {
    "collapsed": false
   },
   "outputs": [
    {
     "name": "stdout",
     "output_type": "stream",
     "text": [
      "go tigers\n"
     ]
    }
   ],
   "source": [
    "print(\"go\", \"tigers\")"
   ]
  },
  {
   "cell_type": "code",
   "execution_count": 25,
   "metadata": {
    "collapsed": false
   },
   "outputs": [
    {
     "name": "stdout",
     "output_type": "stream",
     "text": [
      "26 prospect ave\n"
     ]
    }
   ],
   "source": [
    "print(12 + 14, \"prospect\", \"ave\")"
   ]
  },
  {
   "cell_type": "markdown",
   "metadata": {},
   "source": [
    "By default, the things you seprate with the comma when you use `print` are separated by spaces when they get printed out. Usually that's fine, but sometimes you want more flexibility. But we already know enough to get that flexibility!\n",
    "\n",
    "For example, imagine that you don't want a space between the two strings that you are printing. You could use the fact that `+` concatenates strings together:"
   ]
  },
  {
   "cell_type": "code",
   "execution_count": 26,
   "metadata": {
    "collapsed": false
   },
   "outputs": [
    {
     "name": "stdout",
     "output_type": "stream",
     "text": [
      "CSML\n"
     ]
    }
   ],
   "source": [
    "print(\"CS\" + \"ML\")"
   ]
  },
  {
   "cell_type": "markdown",
   "metadata": {},
   "source": [
    "This is in contradistinction to:"
   ]
  },
  {
   "cell_type": "code",
   "execution_count": 27,
   "metadata": {
    "collapsed": false
   },
   "outputs": [
    {
     "name": "stdout",
     "output_type": "stream",
     "text": [
      "CS ML\n"
     ]
    }
   ],
   "source": [
    "print(\"CS\", \"ML\")"
   ]
  },
  {
   "cell_type": "markdown",
   "metadata": {},
   "source": [
    "### Computing exponents\n",
    "\n",
    "You can do math that's more complicated than addition and multiplication. Use the double asterisk for exponentiation. For example"
   ]
  },
  {
   "cell_type": "code",
   "execution_count": 28,
   "metadata": {
    "collapsed": false
   },
   "outputs": [
    {
     "data": {
      "text/plain": [
       "25"
      ]
     },
     "execution_count": 28,
     "metadata": {},
     "output_type": "execute_result"
    }
   ],
   "source": [
    "5 ** 2"
   ]
  },
  {
   "cell_type": "code",
   "execution_count": 30,
   "metadata": {
    "collapsed": false
   },
   "outputs": [
    {
     "data": {
      "text/plain": [
       "3.0"
      ]
     },
     "execution_count": 30,
     "metadata": {},
     "output_type": "execute_result"
    }
   ],
   "source": [
    "27 ** (1/3)"
   ]
  },
  {
   "cell_type": "markdown",
   "metadata": {},
   "source": [
    "### Switch to problem 1.2\n",
    "### Switch to problem 1.3\n",
    "\n",
    "### Conditionals\n",
    "\n",
    "`if` statements are used for doing different things depending on what the values of some variables are\n",
    "\n",
    "For example, suppose we want to print the absolute value of `n`. If $n \\geq 0$, we should print `n`, and otherwise we should pring `-n`\n",
    "\n",
    "    The (simplified) format of the if statement is:\n",
    "\n",
    "    if <CONDITION>:  \n",
    "        <BLOCK1>  \n",
    "    else:  \n",
    "        <BLOCK2>\n",
    "\n",
    "Note that the columns and the spaces before the blocks are mandatory!\n",
    "\n",
    "If the `CONDITION` is True, `BLOCK1` is executed, and otherwise `BLOCK2` is executed.\n",
    "\n",
    "In our case the condition is $n \\geq 0$  (written as `n >= 0` in Python)."
   ]
  },
  {
   "cell_type": "code",
   "execution_count": 31,
   "metadata": {
    "collapsed": false
   },
   "outputs": [
    {
     "name": "stdout",
     "output_type": "stream",
     "text": [
      "5\n"
     ]
    }
   ],
   "source": [
    "n = -5\n",
    "if n >= 0:\n",
    "    print(n)\n",
    "else:\n",
    "    print(-n)"
   ]
  },
  {
   "cell_type": "markdown",
   "metadata": {},
   "source": [
    "Note that only one of the lines with `print` is ever executed. If `n` is positive, then only the first print will run:"
   ]
  },
  {
   "cell_type": "code",
   "execution_count": 32,
   "metadata": {
    "collapsed": false
   },
   "outputs": [
    {
     "name": "stdout",
     "output_type": "stream",
     "text": [
      "5\n"
     ]
    }
   ],
   "source": [
    "n = 5\n",
    "if n >= 0:\n",
    "    print(n)\n",
    "else:\n",
    "    print(-n)"
   ]
  },
  {
   "cell_type": "markdown",
   "metadata": {},
   "source": [
    "Here is a more complicated example (see the *Pirates of the Caribbean* video below)"
   ]
  },
  {
   "cell_type": "code",
   "execution_count": 33,
   "metadata": {
    "collapsed": false
   },
   "outputs": [
    {
     "data": {
      "image/jpeg": "[encoded data removed]",
      "text/html": [
       "\n",
       "        <iframe\n",
       "            width=\"400\"\n",
       "            height=\"300\"\n",
       "            src=\"https://www.youtube.com/embed/DvzOjZu0NqI\"\n",
       "            frameborder=\"0\"\n",
       "            allowfullscreen\n",
       "        ></iframe>\n",
       "        "
      ],
      "text/plain": [
       "<IPython.lib.display.YouTubeVideo at 0x7f8c64156fd0>"
      ]
     },
     "execution_count": 33,
     "metadata": {},
     "output_type": "execute_result"
    }
   ],
   "source": [
    "from IPython.display import YouTubeVideo\n",
    "YouTubeVideo(\"DvzOjZu0NqI\")"
   ]
  },
  {
   "cell_type": "markdown",
   "metadata": {},
   "source": [
    "To summarize, let's say that you can pay 3 shillings or more to dock and register using an assumed name, and between 1 shilling and 3 shillings to dock and register under your own name.\n",
    "\n",
    "There are three conditions here: either you pay 3 shillings or more, or you pay between 1 and 3 shillings, or you try to pay less than 3 shillings.\n",
    "\n",
    "Here is how we can set up the checks for those conditions:\n",
    "\n",
    "First, we'll check if you are paying 3 shillings or more. If you are, then we don't have to check for anything more, and can let you register straight away.\n",
    "\n",
    "If the first check fails, we'll check if you are paying 1 shilling or more. If you are, we let you register under your own name.\n",
    "\n",
    "If that check fails as well, we tell you to go away.\n",
    "\n",
    "Python allows as to do exactly this: check for multiple conditions in turn. We do that using `elif` statements (short for \"else if,\" but you have to type `elif` exactly.)\n",
    "\n",
    "    if <CONDITION1>:\n",
    "        <BLOCK1>\n",
    "    elif <CONDITION2>:\n",
    "        <BLOCK2>\n",
    "    elif <CONDITION3>:\n",
    "        <BLOCK3>\n",
    "    else:\n",
    "        <BLOCKn>\n",
    "\n",
    "Python will keep checking the conditions in order until one is true, and will execute the corresponding block. If no condition is true, Python will execute the block under `else` (BLOCKn)\n",
    "\n",
    "Note: the spaces and columns are all mandatory, and the format has to be exactly right."
   ]
  },
  {
   "cell_type": "code",
   "execution_count": 34,
   "metadata": {
    "collapsed": false
   },
   "outputs": [
    {
     "name": "stdout",
     "output_type": "stream",
     "text": [
      "Welcome to Port Royal, Jack Sparrow\n"
     ]
    }
   ],
   "source": [
    "shillings = 2\n",
    "name = \"Jack Sparrow\"\n",
    "\n",
    "if shillings >= 3:\n",
    "    print(\"Welcome to Port Royal, Mr. Smith\") \n",
    "elif shillings >= 1:\n",
    "    print(\"Welcome to Port Royal, \" + name)\n",
    "else:\n",
    "    print(\"Go away!\") "
   ]
  },
  {
   "cell_type": "markdown",
   "metadata": {},
   "source": [
    "### Tracing `if` statements"
   ]
  },
  {
   "cell_type": "code",
   "execution_count": 35,
   "metadata": {
    "collapsed": false
   },
   "outputs": [
    {
     "data": {
      "image/jpeg": "[encoded data removed]",
      "text/html": [
       "\n",
       "        <iframe\n",
       "            width=\"400\"\n",
       "            height=\"300\"\n",
       "            src=\"https://www.youtube.com/embed/lf4HDr5GaTM\"\n",
       "            frameborder=\"0\"\n",
       "            allowfullscreen\n",
       "        ></iframe>\n",
       "        "
      ],
      "text/plain": [
       "<IPython.lib.display.YouTubeVideo at 0x7f8c64156f60>"
      ]
     },
     "execution_count": 35,
     "metadata": {},
     "output_type": "execute_result"
    }
   ],
   "source": [
    "from IPython.display import YouTubeVideo\n",
    "YouTubeVideo(\"lf4HDr5GaTM\")"
   ]
  },
  {
   "cell_type": "markdown",
   "metadata": {},
   "source": [
    "### Switch to problem 1.4\n",
    "### Switch to problem 1.5"
   ]
  },
  {
   "cell_type": "markdown",
   "metadata": {},
   "source": [
    "### User input\n",
    "\n",
    "We can obtain input from the user by using `input`.\n",
    "\n",
    "In a sense, `input` is like `print` in reverse. To print `a`, we use\n",
    "\n",
    "    print(a)\n",
    "\n",
    "To get `a` from the user, we use\n",
    "\n",
    "    a = input(prompt)\n",
    "\n",
    "prompt is the text that the user sees before the cursor."
   ]
  },
  {
   "cell_type": "code",
   "execution_count": 36,
   "metadata": {
    "collapsed": false
   },
   "outputs": [
    {
     "name": "stdout",
     "output_type": "stream",
     "text": [
      "What is your name? Michael\n",
      "Hi Michael\n"
     ]
    }
   ],
   "source": [
    "name = input(\"What is your name? \")\n",
    "# User types in the name and presses Enter now\n",
    "print(\"Hi\", name)"
   ]
  },
  {
   "cell_type": "markdown",
   "metadata": {},
   "source": [
    "There is one issue: `input` always returns a string -- text that we've been enclosing in quotes. To obtain a floating-point number, we'd use\n",
    "\n"
   ]
  },
  {
   "cell_type": "code",
   "execution_count": 39,
   "metadata": {
    "collapsed": false
   },
   "outputs": [
    {
     "name": "stdout",
     "output_type": "stream",
     "text": [
      "How old are you? 34\n",
      "You used to be 33.0\n"
     ]
    }
   ],
   "source": [
    "age = float(input(\"How old are you? \"))\n",
    "print(\"You used to be\", age - 1)"
   ]
  }
 ],
 "metadata": {
  "kernelspec": {
   "display_name": "Python 3",
   "language": "python",
   "name": "python3"
  },
  "language_info": {
   "codemirror_mode": {
    "name": "ipython",
    "version": 3
   },
   "file_extension": ".py",
   "mimetype": "text/x-python",
   "name": "python",
   "nbconvert_exporter": "python",
   "pygments_lexer": "ipython3",
   "version": "3.5.2"
  }
 },
 "nbformat": 4,
 "nbformat_minor": 2
}
