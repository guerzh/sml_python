{
 "cells": [
  {
   "cell_type": "markdown",
   "metadata": {},
   "source": [
    "#### Problem 4.1\n",
    "\n",
    "Write a function that takes in a list with an even number of elements, and returns `True` if the sum of the first half of the list is greater than the sum of the second half of the list.\n",
    "\n",
    "For example, if the list is `L = [4, 5, 6, 7, 1, 1]`, the function should return `True` since (4 + 5 + 6) > (7 + 1 + 1)"
   ]
  },
  {
   "cell_type": "markdown",
   "metadata": {},
   "source": [
    "#### Problem 4.2\n",
    "\n",
    "Write a function that return `True` if the list it takes in is increasing (e.g., `[1, 4, 10]`), and `False` is the list is not strictly increasing (e.g., `[1, 1, 2]` or `[10, 9, 11, 12, 13]`)."
   ]
  }
 ],
 "metadata": {
  "kernelspec": {
   "display_name": "Python 3",
   "language": "python",
   "name": "python3"
  },
  "language_info": {
   "codemirror_mode": {
    "name": "ipython",
    "version": 3
   },
   "file_extension": ".py",
   "mimetype": "text/x-python",
   "name": "python",
   "nbconvert_exporter": "python",
   "pygments_lexer": "ipython3",
   "version": "3.5.2"
  }
 },
 "nbformat": 4,
 "nbformat_minor": 2
}
