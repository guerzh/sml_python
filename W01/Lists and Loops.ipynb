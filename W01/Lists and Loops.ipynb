{
 "cells": [
  {
   "cell_type": "markdown",
   "metadata": {},
   "source": [
    "### Lists\n",
    "\n",
    "\n",
    "If we'd like to store more than one value in a single variable, we can use lists. For example, here are the average starting salary offers for several different specialties of physicians (from https://www.merritthawkins.com/news-and-insights/blog/job-search-advice/physician-starting-salaries-by-specialty-2018-vs-2017/ )\n",
    "\n",
    "Medical Specialty\t2017/2018 Average Salary Offer\t2016/2017 Average Salary Offer\n",
    "\n",
    "              1. Cardiologist (Invasive)\t$590,000\n",
    "              2. Orthopedic Surgeon\t$533,000\n",
    "              3. Gastroenterologist\t$487,000\n",
    "              4. Cardiologist (Non-invasive)\t$427,000\n",
    "              5. Dermatologist\t$425,000\n",
    "              6. Pulmonologist\t$418,000\n",
    "              7. Otolaryngologist\t$405,000\n",
    "              8. Urologist\t$386,000\t\n",
    "              9. Anesthesiologist\t$371,000\n",
    "              10. Emergency Medicine Physician\t$358,000\t\n",
    "\n",
    "\n",
    "We can store the salary data for the first five specialties, in thousands of dollars per year, as follows"
   ]
  },
  {
   "cell_type": "code",
   "execution_count": 1,
   "metadata": {
    "collapsed": true
   },
   "outputs": [],
   "source": [
    "salaries = [590, 533, 487, 427, 425]"
   ]
  },
  {
   "cell_type": "markdown",
   "metadata": {},
   "source": [
    "We enclose the data in square brackets, and elements of the list is separated by commas. We access the elements by their index -- the order of the element in the list, starting from 0.\n"
   ]
  },
  {
   "cell_type": "code",
   "execution_count": 2,
   "metadata": {
    "collapsed": false
   },
   "outputs": [
    {
     "data": {
      "text/plain": [
       "590"
      ]
     },
     "execution_count": 2,
     "metadata": {},
     "output_type": "execute_result"
    }
   ],
   "source": [
    "salaries[0]"
   ]
  },
  {
   "cell_type": "code",
   "execution_count": 3,
   "metadata": {
    "collapsed": false
   },
   "outputs": [
    {
     "data": {
      "text/plain": [
       "487"
      ]
     },
     "execution_count": 3,
     "metadata": {},
     "output_type": "execute_result"
    }
   ],
   "source": [
    "salaries[2]"
   ]
  },
  {
   "cell_type": "markdown",
   "metadata": {},
   "source": [
    "We can also access the elements from the end:"
   ]
  },
  {
   "cell_type": "code",
   "execution_count": 4,
   "metadata": {
    "collapsed": false
   },
   "outputs": [
    {
     "data": {
      "text/plain": [
       "425"
      ]
     },
     "execution_count": 4,
     "metadata": {},
     "output_type": "execute_result"
    }
   ],
   "source": [
    "salaries[-1]"
   ]
  },
  {
   "cell_type": "code",
   "execution_count": 5,
   "metadata": {
    "collapsed": false
   },
   "outputs": [
    {
     "data": {
      "text/plain": [
       "427"
      ]
     },
     "execution_count": 5,
     "metadata": {},
     "output_type": "execute_result"
    }
   ],
   "source": [
    "salaries[-2]"
   ]
  },
  {
   "cell_type": "markdown",
   "metadata": {},
   "source": [
    "Something like `salaries[5]` would produce an error: the last element of a five-element list is `salaries[4]`."
   ]
  },
  {
   "cell_type": "markdown",
   "metadata": {},
   "source": [
    "You can treat `salaries[2]` like a variable: you can use it in exoressions or assign to it"
   ]
  },
  {
   "cell_type": "code",
   "execution_count": 6,
   "metadata": {
    "collapsed": true
   },
   "outputs": [],
   "source": [
    "salaries[2] = salaries[2] + 1"
   ]
  },
  {
   "cell_type": "code",
   "execution_count": 7,
   "metadata": {
    "collapsed": false
   },
   "outputs": [
    {
     "data": {
      "text/plain": [
       "[590, 533, 488, 427, 425]"
      ]
     },
     "execution_count": 7,
     "metadata": {},
     "output_type": "execute_result"
    }
   ],
   "source": [
    "salaries"
   ]
  },
  {
   "cell_type": "markdown",
   "metadata": {},
   "source": [
    "You can also use expressions when creating lists:"
   ]
  },
  {
   "cell_type": "code",
   "execution_count": 8,
   "metadata": {
    "collapsed": true
   },
   "outputs": [],
   "source": [
    "a = [1, 3, salaries[0]]"
   ]
  },
  {
   "cell_type": "code",
   "execution_count": 9,
   "metadata": {
    "collapsed": false
   },
   "outputs": [
    {
     "data": {
      "text/plain": [
       "[1, 3, 590]"
      ]
     },
     "execution_count": 9,
     "metadata": {},
     "output_type": "execute_result"
    }
   ],
   "source": [
    "a"
   ]
  },
  {
   "cell_type": "markdown",
   "metadata": {},
   "source": [
    "### Length of a list\n",
    "\n",
    "You can use `len(L)` to obtain the length of the list `L`"
   ]
  },
  {
   "cell_type": "code",
   "execution_count": 10,
   "metadata": {
    "collapsed": false
   },
   "outputs": [
    {
     "data": {
      "text/plain": [
       "5"
      ]
     },
     "execution_count": 10,
     "metadata": {},
     "output_type": "execute_result"
    }
   ],
   "source": [
    "len(salaries)"
   ]
  },
  {
   "cell_type": "markdown",
   "metadata": {},
   "source": [
    "That implies you can get the last element as follows:"
   ]
  },
  {
   "cell_type": "code",
   "execution_count": 11,
   "metadata": {
    "collapsed": false
   },
   "outputs": [
    {
     "data": {
      "text/plain": [
       "425"
      ]
     },
     "execution_count": 11,
     "metadata": {},
     "output_type": "execute_result"
    }
   ],
   "source": [
    "salaries[len(salaries) - 1]"
   ]
  },
  {
   "cell_type": "markdown",
   "metadata": {},
   "source": [
    "(Why the -1? Because if you have 5 indicies in the list, they are 0, 1, 2, 3, 4. The last index is the length minus one.)"
   ]
  },
  {
   "cell_type": "code",
   "execution_count": 12,
   "metadata": {
    "collapsed": false
   },
   "outputs": [
    {
     "data": {
      "text/plain": [
       "427"
      ]
     },
     "execution_count": 12,
     "metadata": {},
     "output_type": "execute_result"
    }
   ],
   "source": [
    "salaries[len(salaries) - 2]"
   ]
  },
  {
   "cell_type": "code",
   "execution_count": 13,
   "metadata": {
    "collapsed": false
   },
   "outputs": [
    {
     "name": "stdout",
     "output_type": "stream",
     "text": [
      "Length of L: 3\n",
      "The index of the last element of L: 2\n",
      "The last element of L: 6\n"
     ]
    }
   ],
   "source": [
    "L = [4, 5, 6]\n",
    "print(\"Length of L:\", len(L))\n",
    "print(\"The index of the last element of L:\", len(L)-1)\n",
    "print(\"The last element of L:\", L[len(L)-1])"
   ]
  },
  {
   "cell_type": "markdown",
   "metadata": {},
   "source": [
    "You can think of `L[-1]` as shorthand for `L[length(L) - 1]`.  It is the \"first element from the right end\" (but note that we ordinarily start counting the indices from 0, whereas if we're counting form the end, we start from -1)."
   ]
  },
  {
   "cell_type": "markdown",
   "metadata": {},
   "source": [
    "### Iteration and loops\n",
    "\n",
    "#### Printing out all the earnings\n",
    "Suppose we want to print out all the earnings in `salaries`. In other words, we want to print `salaries[0]`, then `salaries[1]`, then `salaries[2]` and so on, but we don't know the size of `salaries` in advance.\n",
    "\n",
    "In other words, we want to print out \n",
    "    salaries[0]\n",
    "    salaries[1]\n",
    "    salaries[2]\n",
    "    salaries[3]\n",
    "    ...\n",
    "    salaries[len(salaries) - 1]\n",
    "\n",
    "Or in other words, we want to print out \n",
    "    `salaries[i]` for `i == 0`\n",
    "    `salaries[i]` for `i == 1`\n",
    "    `salaries[i]` for `i == 2`\n",
    "    ...\n",
    "    `salaries[i]` for `i == len(salaries) - 1`\n",
    "\n",
    "There is a way to do this in Python.\n",
    "\n",
    "#### Loops\n",
    "You can print out all the numbers from 0 to 4 (inclusive) as follows:"
   ]
  },
  {
   "cell_type": "code",
   "execution_count": 14,
   "metadata": {
    "collapsed": false
   },
   "outputs": [
    {
     "name": "stdout",
     "output_type": "stream",
     "text": [
      "0\n",
      "1\n",
      "2\n",
      "3\n",
      "4\n"
     ]
    }
   ],
   "source": [
    "for i in range(5):\n",
    "    print(i)"
   ]
  },
  {
   "cell_type": "markdown",
   "metadata": {},
   "source": [
    "What happens here is that the line `print(i)` is repeated for `i = 0, i = 1, ..., i = (5-1)`, so we first print `0`, then `1`, ..., then `4`.\n",
    "\n",
    "Note that since we're starting from `0` and go up until `5 - 1`, we repeat the line exactly `5` times.\n",
    "\n",
    "This construct is called a for-loop.\n",
    "\n",
    "In general, \n",
    "\n",
    "    for i in range(N):\n",
    "        BLOCK\n",
    "\n",
    "will repeate the BLOCK N times, for `i = 0, 1, 2, ..., N-1`.\n",
    "\n",
    "The `BLOCK` can be more than one line long, of course."
   ]
  },
  {
   "cell_type": "markdown",
   "metadata": {},
   "source": [
    "#### Printing out a list\n",
    "\n",
    "Let's use a for-loop to print out the list `salaries`. We already have all the ingredients: we know how to get `i` to be `0`, then `1`, then `2`, ..., then `len(salaries) - 1`, and we know how to get the `i`-th element of `salaries`. We just need to combine those together."
   ]
  },
  {
   "cell_type": "code",
   "execution_count": 15,
   "metadata": {
    "collapsed": false
   },
   "outputs": [
    {
     "name": "stdout",
     "output_type": "stream",
     "text": [
      "Element 0 : 590\n",
      "Element 1 : 533\n",
      "Element 2 : 488\n",
      "Element 3 : 427\n",
      "Element 4 : 425\n"
     ]
    }
   ],
   "source": [
    "for i in range(len(salaries)):\n",
    "    print(\"Element\", i, \":\", salaries[i])\n",
    "    "
   ]
  },
  {
   "cell_type": "markdown",
   "metadata": {},
   "source": [
    "#### Only priting out some of the elements\n",
    "\n",
    "Suppose we only want to print the elements of `salaries` that are no smaller than 450. How to do that?\n",
    "\n",
    "By now, we know how to print something conditionally:"
   ]
  },
  {
   "cell_type": "code",
   "execution_count": 16,
   "metadata": {
    "collapsed": false
   },
   "outputs": [
    {
     "name": "stdout",
     "output_type": "stream",
     "text": [
      "PRESS SNOOZE BUTTON\n"
     ]
    }
   ],
   "source": [
    "hours_slept = 7\n",
    "if hours_slept < 8:\n",
    "    print(\"PRESS SNOOZE BUTTON\")\n"
   ]
  },
  {
   "cell_type": "code",
   "execution_count": 17,
   "metadata": {
    "collapsed": true
   },
   "outputs": [],
   "source": [
    "hours_slept = 9\n",
    "if hours_slept < 8:\n",
    "    print(\"PRESS SNOOZE BUTTON\")   # Will not get executed for hours_slept == 9\n",
    "                                   # No output at all"
   ]
  },
  {
   "cell_type": "markdown",
   "metadata": {},
   "source": [
    "Let's use the same idea, but inside the for-loop."
   ]
  },
  {
   "cell_type": "code",
   "execution_count": 18,
   "metadata": {
    "collapsed": false
   },
   "outputs": [
    {
     "name": "stdout",
     "output_type": "stream",
     "text": [
      "590\n",
      "533\n",
      "488\n"
     ]
    }
   ],
   "source": [
    "salaries = [590, 533, 488, 427, 425]\n",
    "for i in range(len(salaries)):\n",
    "    if salaries[i] >= 450:\n",
    "        print(salaries[i])"
   ]
  },
  {
   "cell_type": "markdown",
   "metadata": {},
   "source": [
    "Let's trace a program like this"
   ]
  },
  {
   "cell_type": "code",
   "execution_count": 19,
   "metadata": {
    "collapsed": false
   },
   "outputs": [
    {
     "data": {
      "image/jpeg": "[encoded data removed]",
      "text/html": [
       "\n",
       "        <iframe\n",
       "            width=\"400\"\n",
       "            height=\"300\"\n",
       "            src=\"https://www.youtube.com/embed/v4QQWFaMgJw\"\n",
       "            frameborder=\"0\"\n",
       "            allowfullscreen\n",
       "        ></iframe>\n",
       "        "
      ],
      "text/plain": [
       "<IPython.lib.display.YouTubeVideo at 0x7fcff0669438>"
      ]
     },
     "execution_count": 19,
     "metadata": {},
     "output_type": "execute_result"
    }
   ],
   "source": [
    "from IPython.display import YouTubeVideo\n",
    "YouTubeVideo(\"v4QQWFaMgJw\")"
   ]
  },
  {
   "cell_type": "markdown",
   "metadata": {},
   "source": [
    "### Computing the sum of a list\n",
    "\n",
    "Suppose we want to compute the sum of all the values in a list. Here's the idea: we'll set up a variable `s`, and we'll keep adding adding elements to it.\n",
    "\n",
    "So at first, `s` will be 0. \n",
    "\n",
    "Then we'll add `salaries[0]` to it, and `s` will become `salaries[0]`.\n",
    "\n",
    "Then we'll add `salaries[1]` to it, and `s` will become `salaries[0] + salaries[1]`\n",
    "\n",
    "...\n",
    "\n",
    "Then we'll add `salaries[len(salaries)-1]` to it, and `s` will become the sum of all the elements in `salaries`"
   ]
  },
  {
   "cell_type": "code",
   "execution_count": 20,
   "metadata": {
    "collapsed": false
   },
   "outputs": [
    {
     "name": "stdout",
     "output_type": "stream",
     "text": [
      "At iteration 0 s =  590\n",
      "At iteration 1 s =  1123\n",
      "At iteration 2 s =  1611\n",
      "At iteration 3 s =  2038\n",
      "At iteration 4 s =  2463\n",
      "Final s: 2463\n"
     ]
    }
   ],
   "source": [
    "s = 0    \n",
    "for i in range(len(salaries)):\n",
    "    s = s + salaries[i]\n",
    "    print(\"At iteration\", i, \"s = \", s)\n",
    "\n",
    "print(\"Final s:\", s)   "
   ]
  },
  {
   "cell_type": "markdown",
   "metadata": {},
   "source": [
    "#### Iterating with and without indices\n",
    "\n",
    "In Python, you can iterate over the elements of the list without explicitly using indices:"
   ]
  },
  {
   "cell_type": "code",
   "execution_count": 21,
   "metadata": {
    "collapsed": false
   },
   "outputs": [
    {
     "name": "stdout",
     "output_type": "stream",
     "text": [
      "4\n",
      "5\n",
      "6\n"
     ]
    }
   ],
   "source": [
    "L = [4, 5, 6]\n",
    "for elem in L:\n",
    "    print(elem)"
   ]
  },
  {
   "cell_type": "markdown",
   "metadata": {},
   "source": [
    "Note, however, that the following will not work as you might expect, for slightly complicated reasons"
   ]
  },
  {
   "cell_type": "code",
   "execution_count": 22,
   "metadata": {
    "collapsed": false
   },
   "outputs": [
    {
     "data": {
      "text/plain": [
       "[4, 5, 6]"
      ]
     },
     "execution_count": 22,
     "metadata": {},
     "output_type": "execute_result"
    }
   ],
   "source": [
    "L = [4, 5, 6]\n",
    "for elem in L:\n",
    "    elem = elem * 2\n",
    "L"
   ]
  },
  {
   "cell_type": "markdown",
   "metadata": {},
   "source": [
    "To *modify* the contents of a list, you need to explicitly use indices"
   ]
  },
  {
   "cell_type": "code",
   "execution_count": 23,
   "metadata": {
    "collapsed": false
   },
   "outputs": [
    {
     "data": {
      "text/plain": [
       "[5, 6, 7]"
      ]
     },
     "execution_count": 23,
     "metadata": {},
     "output_type": "execute_result"
    }
   ],
   "source": [
    "L = [4, 5, 6]\n",
    "for i in range(len(L)):\n",
    "    L[i] = L[i] + 1\n",
    "L"
   ]
  },
  {
   "cell_type": "markdown",
   "metadata": {},
   "source": [
    "Note that there is nothing special about `i`. You could (but shouldn't) use "
   ]
  },
  {
   "cell_type": "code",
   "execution_count": 24,
   "metadata": {
    "collapsed": false
   },
   "outputs": [
    {
     "data": {
      "text/plain": [
       "[14, 15, 16]"
      ]
     },
     "execution_count": 24,
     "metadata": {},
     "output_type": "execute_result"
    }
   ],
   "source": [
    "L = [4, 5, 6]\n",
    "for i21039123012 in range(len(L)):\n",
    "    L[i21039123012] = L[i21039123012] + 10\n",
    "L"
   ]
  },
  {
   "cell_type": "markdown",
   "metadata": {},
   "source": [
    "Note that the syntax here makes sense if `range(len(L))` is thought of as the list `[0, 1, 2, ..., len(L) - 1]`: `i` just takes on values in that list, like when we used `for elem in L`. In fact, that is almost what is going on. (And is exactly what is going on in Python 2; but we are using Python 3 so it's slightly more complicated)."
   ]
  },
  {
   "cell_type": "code",
   "execution_count": 25,
   "metadata": {
    "collapsed": false
   },
   "outputs": [
    {
     "data": {
      "text/plain": [
       "[0, 1, 2]"
      ]
     },
     "execution_count": 25,
     "metadata": {},
     "output_type": "execute_result"
    }
   ],
   "source": [
    "list(range(len(L)))"
   ]
  }
 ],
 "metadata": {
  "kernelspec": {
   "display_name": "Python 3",
   "language": "python",
   "name": "python3"
  },
  "language_info": {
   "codemirror_mode": {
    "name": "ipython",
    "version": 3
   },
   "file_extension": ".py",
   "mimetype": "text/x-python",
   "name": "python",
   "nbconvert_exporter": "python",
   "pygments_lexer": "ipython3",
   "version": "3.5.2"
  }
 },
 "nbformat": 4,
 "nbformat_minor": 2
}
