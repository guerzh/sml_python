{
 "cells": [
  {
   "cell_type": "markdown",
   "metadata": {},
   "source": [
    "### Functions\n",
    "\n",
    "Functions in Python are defined using the keyword `def`. Functions that return a value use the `return` statement. Like with `if` statements, the body of the function is indented."
   ]
  },
  {
   "cell_type": "code",
   "execution_count": 1,
   "metadata": {
    "collapsed": true
   },
   "outputs": [],
   "source": [
    "def sum_list(L):\n",
    "    '''Return the sum of the list L\n",
    "    \n",
    "    Parameters:\n",
    "    L: a list of numbers\n",
    "    '''\n",
    "    s = 0\n",
    "    for e in L:\n",
    "        s += e # same as s = s + e\n",
    "    \n",
    "    return s"
   ]
  },
  {
   "cell_type": "code",
   "execution_count": 2,
   "metadata": {
    "collapsed": false
   },
   "outputs": [
    {
     "data": {
      "text/plain": [
       "15"
      ]
     },
     "execution_count": 2,
     "metadata": {},
     "output_type": "execute_result"
    }
   ],
   "source": [
    "sum_list([4, 5, 6])"
   ]
  },
  {
   "cell_type": "markdown",
   "metadata": {},
   "source": [
    "(Note that Python has the built-in function `sum`)\n",
    "\n",
    "You will note the `docstring` -- a string enclosed in triple quotes that describes the function. By convention, the first line of the docstring is in the imperative.\n",
    "\n",
    "#### Early `return`\n",
    "\n",
    "The `return` statement, when executed, is the last statement executed in the function. Here is an example with an unintended early return:"
   ]
  },
  {
   "cell_type": "code",
   "execution_count": 3,
   "metadata": {
    "collapsed": true
   },
   "outputs": [],
   "source": [
    "def f(L):\n",
    "    s = 0\n",
    "    for e in L:\n",
    "        s += e\n",
    "        return s "
   ]
  },
  {
   "cell_type": "code",
   "execution_count": 4,
   "metadata": {
    "collapsed": false
   },
   "outputs": [
    {
     "data": {
      "text/plain": [
       "3"
      ]
     },
     "execution_count": 4,
     "metadata": {},
     "output_type": "execute_result"
    }
   ],
   "source": [
    "f([3, 2, 1, 4])"
   ]
  },
  {
   "cell_type": "markdown",
   "metadata": {},
   "source": [
    "When r was `3`, we hit the early `return` in the function, and that is the last thing that happened in the function. This is sometimes useful. For example, suppose we want to return `True` if the number 42 is present in the list, and `False` otherwise."
   ]
  },
  {
   "cell_type": "code",
   "execution_count": 5,
   "metadata": {
    "collapsed": true
   },
   "outputs": [],
   "source": [
    "def search_list(L, elem):\n",
    "    '''Return True iff elem is one of the elements of the list L\n",
    "    \n",
    "    Parameters\n",
    "    L: a list\n",
    "    elem: an object\n",
    "    '''\n",
    "    \n",
    "    for e in L:\n",
    "        if e == elem:\n",
    "            return True\n",
    "        # A common mistake is to include else: return False here\n",
    "    return False"
   ]
  },
  {
   "cell_type": "code",
   "execution_count": 6,
   "metadata": {
    "collapsed": false
   },
   "outputs": [
    {
     "data": {
      "text/plain": [
       "True"
      ]
     },
     "execution_count": 6,
     "metadata": {},
     "output_type": "execute_result"
    }
   ],
   "source": [
    "search_list([5, 6, 42, 3], 42)"
   ]
  },
  {
   "cell_type": "code",
   "execution_count": 7,
   "metadata": {
    "collapsed": false
   },
   "outputs": [
    {
     "data": {
      "text/plain": [
       "False"
      ]
     },
     "execution_count": 7,
     "metadata": {},
     "output_type": "execute_result"
    }
   ],
   "source": [
    "search_list([1, 2, 3], 5)"
   ]
  },
  {
   "cell_type": "markdown",
   "metadata": {},
   "source": [
    "### Switch to Problem 4.1\n",
    "### Switch to Problem 4.2"
   ]
  }
 ],
 "metadata": {
  "kernelspec": {
   "display_name": "Python 3",
   "language": "python",
   "name": "python3"
  },
  "language_info": {
   "codemirror_mode": {
    "name": "ipython",
    "version": 3
   },
   "file_extension": ".py",
   "mimetype": "text/x-python",
   "name": "python",
   "nbconvert_exporter": "python",
   "pygments_lexer": "ipython3",
   "version": "3.5.2"
  }
 },
 "nbformat": 4,
 "nbformat_minor": 2
}
