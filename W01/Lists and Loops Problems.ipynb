{
 "cells": [
  {
   "cell_type": "markdown",
   "metadata": {},
   "source": [
    "#### Problem 2.1\n",
    "\n",
    "Compute the average of the list of values `salaries`\n",
    "\n",
    "#### Problem 2.2\n",
    "\n",
    "Compute the average of the list of values `salaries`, but omit from the computation any value greater than 500. (So for example for `[1, 510, 2]`, the results should be 1.5.\n",
    "\n",
    "Hint: before starting the task, write some code to compute the number of elements that are smaller than 500."
   ]
  }
 ],
 "metadata": {
  "kernelspec": {
   "display_name": "Python 3",
   "language": "python",
   "name": "python3"
  },
  "language_info": {
   "codemirror_mode": {
    "name": "ipython",
    "version": 3
   },
   "file_extension": ".py",
   "mimetype": "text/x-python",
   "name": "python",
   "nbconvert_exporter": "python",
   "pygments_lexer": "ipython3",
   "version": "3.5.2"
  }
 },
 "nbformat": 4,
 "nbformat_minor": 2
}
